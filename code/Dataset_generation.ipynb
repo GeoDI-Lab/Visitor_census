{
 "cells": [
  {
   "cell_type": "code",
   "execution_count": 82,
   "id": "terminal-flour",
   "metadata": {},
   "outputs": [],
   "source": [
    "import pandas as pd\n",
    "import geopandas as gpd\n",
    "import matplotlib.pyplot as plt\n",
    "import numpy as np\n",
    "from typing import List, Optional\n",
    "import time\n",
    "import pytz\n",
    "from datetime import datetime\n",
    "\n",
    "import warnings \n",
    "warnings.filterwarnings(\"ignore\")"
   ]
  },
  {
   "cell_type": "markdown",
   "id": "sustainable-trash",
   "metadata": {},
   "source": [
    "# Intermediate Home-Visit table generation"
   ]
  },
  {
   "cell_type": "code",
   "execution_count": 70,
   "id": "northern-relation",
   "metadata": {},
   "outputs": [],
   "source": [
    "def home_visit(timezone: str, start_date: int, end_date: int, *,\n",
    "    demo_path: str = \"./demo_data/demo_raw.csv\",\n",
    "    cbg_path: str = \"./demo_data/TCMA_cbg.geojson\",) -> pd.DataFrame:\n",
    "\n",
    "    if start_date > end_date:\n",
    "        raise ValueError(\"start_date must be ≤ end_date\")\n",
    "\n",
    "    # Load data\n",
    "    demo_raw = pd.read_csv(demo_path, usecols=[\"device_key\", \"unix_time\", \"Target_CBG\", \"Visitor_CBG\"])\n",
    "    msa_cbg = gpd.read_file(cbg_path)[[\"GISJOIN\"]]\n",
    "\n",
    "    # Convert timestamps *vectorised and select time range\n",
    "    true_tz = pytz.timezone(timezone)\n",
    "    demo_raw['real_time'] = demo_raw['unix_time'].apply(lambda x: datetime.fromtimestamp(x,true_tz))\n",
    "    demo_raw[\"hour\"] = demo_raw[\"real_time\"].dt.floor(\"H\")\n",
    "    demo_raw[\"day\"]  = demo_raw[\"real_time\"].dt.day\n",
    "    demo_raw = demo_raw.loc[demo_raw[\"day\"].between(start_date, end_date)]\n",
    "\n",
    "    if demo_raw.empty:\n",
    "        return pd.DataFrame(\n",
    "            columns=[\"Time\", \"Target_CBG\", \"Visitor_CBG\",\"Num_visitor\", \"Num_visit\"])\n",
    "\n",
    "    # Aggregate visits \n",
    "    hourly_counts = (demo_raw\n",
    "        .groupby([\"Target_CBG\", \"Visitor_CBG\", \"hour\"], as_index=False)\n",
    "        .agg(Num_visit=(\"device_key\", \"size\"), Num_visitor=(\"device_key\", \"nunique\")))\n",
    "\n",
    "    # Attach missing CBGs (left join)\n",
    "    result = (msa_cbg.merge(hourly_counts, left_on=\"GISJOIN\", right_on=\"Target_CBG\",how=\"left\")\n",
    "              .dropna(subset=[\"Num_visit\", \"Num_visitor\"]))\n",
    "\n",
    "    # ISO-style timestamp (yyyy-mm-dd HH)\n",
    "    result[\"Time\"] = result[\"hour\"].dt.strftime(\"%Y-%m-%d %H\")\n",
    "\n",
    "    # reorder & clean\n",
    "    result = result[[\"Time\", \"Target_CBG\", \"Visitor_CBG\", \"Num_visitor\", \"Num_visit\"]].sort_values([\"Time\", \"Target_CBG\", \"Visitor_CBG\"]).reset_index(drop=True)\n",
    "    return result"
   ]
  },
  {
   "cell_type": "code",
   "execution_count": 71,
   "id": "korean-invitation",
   "metadata": {},
   "outputs": [],
   "source": [
    "# TCMA (Central time), Juy 19-25 (all records in demo raw)\n",
    "demo_homevisit = home_visit('US/Central', 19, 25)"
   ]
  },
  {
   "cell_type": "code",
   "execution_count": 72,
   "id": "married-flour",
   "metadata": {},
   "outputs": [
    {
     "name": "stdout",
     "output_type": "stream",
     "text": [
      "<class 'pandas.core.frame.DataFrame'>\n",
      "RangeIndex: 95225 entries, 0 to 95224\n",
      "Data columns (total 5 columns):\n",
      " #   Column       Non-Null Count  Dtype  \n",
      "---  ------       --------------  -----  \n",
      " 0   Time         95225 non-null  object \n",
      " 1   Target_CBG   95225 non-null  object \n",
      " 2   Visitor_CBG  95225 non-null  object \n",
      " 3   Num_visitor  95225 non-null  float64\n",
      " 4   Num_visit    95225 non-null  float64\n",
      "dtypes: float64(2), object(3)\n",
      "memory usage: 3.6+ MB\n"
     ]
    }
   ],
   "source": [
    "demo_homevisit.info()"
   ]
  },
  {
   "cell_type": "code",
   "execution_count": 76,
   "id": "charitable-queensland",
   "metadata": {},
   "outputs": [],
   "source": [
    "demo_homevisit.to_csv('./demo_data/demo_homevisit.csv')"
   ]
  },
  {
   "cell_type": "markdown",
   "id": "changed-celtic",
   "metadata": {},
   "source": [
    "# Visitor census in one month -- visitor-based or visit-based"
   ]
  },
  {
   "cell_type": "code",
   "execution_count": 91,
   "id": "lovely-timothy",
   "metadata": {},
   "outputs": [],
   "source": [
    "def visitor_census_aggregation(agg_type: str, *,\n",
    "    homevisit_path: str = \"./demo_data/demo_homevisit.csv\",\n",
    "    census_path: str = \"./demo_data/census_attribute.csv\",\n",
    "    cbg_path: str = \"./demo_data/TCMA_cbg.geojson\",\n",
    "    attrs: Optional[List[str]] = None,) -> gpd.GeoDataFrame:\n",
    "    # Sanity checks\n",
    "    if agg_type not in {\"visitor\", \"visit\"}:\n",
    "        raise ValueError(\"agg_type must be 'visitor' or 'visit'\")\n",
    "\n",
    "    # Fall-back list of census columns\n",
    "    if attrs is None:\n",
    "        attrs = [\"Income\", \"Wp\", \"Pbb\", \"Upp\"]\n",
    "\n",
    "    weight_col = \"Num_visitor\" if agg_type == \"visitor\" else \"Num_visit\"\n",
    "\n",
    "    # Load data\n",
    "    home_visit_tab = pd.read_csv(homevisit_path).drop(columns=\"Unnamed: 0\", errors=\"ignore\")\n",
    "    attribute_tab  = pd.read_csv(census_path)   .drop(columns=\"Unnamed: 0\", errors=\"ignore\")\n",
    "\n",
    "    # Link visitor attributes onto each visit record\n",
    "    link = (home_visit_tab.merge(attribute_tab, left_on=\"Visitor_CBG\", right_on=\"CBG_ID\", how=\"left\")\n",
    "        .dropna(subset = attrs + [weight_col]))  # keep rows with data\n",
    "\n",
    "    if link.empty:\n",
    "        raise ValueError(\"No rows left after merging & dropping NaNs; check inputs.\")\n",
    "\n",
    "    # Group & compute weighted means\n",
    "    def _wavg(group: pd.DataFrame) -> pd.Series:\n",
    "        w = group[weight_col].to_numpy()\n",
    "        out = {}\n",
    "        for col in attrs:\n",
    "            out[f\"{col}_v\"] = np.average(group[col].to_numpy(), weights=w)\n",
    "        return pd.Series(out)\n",
    "\n",
    "    visitor_attribute = (link.groupby(\"Target_CBG\", sort=False)   # preserve input order\n",
    "            .apply(_wavg).reset_index())\n",
    "\n",
    "    # merge back onto full CBG\n",
    "    msa_cbg = gpd.read_file(cbg_path)[[\"GISJOIN\"]]\n",
    "    visitor_census = (msa_cbg.merge(visitor_attribute, left_on=\"GISJOIN\", right_on=\"Target_CBG\", how=\"left\")\n",
    "               .drop(columns=\"Target_CBG\")\n",
    "               .rename(columns={\"GISJOIN\": \"CBG_ID_v\"}))\n",
    "\n",
    "    return visitor_census"
   ]
  },
  {
   "cell_type": "markdown",
   "id": "raised-current",
   "metadata": {},
   "source": [
    "## Visitor-based aggregation"
   ]
  },
  {
   "cell_type": "code",
   "execution_count": 92,
   "id": "third-career",
   "metadata": {},
   "outputs": [],
   "source": [
    "visitor_census_1 = visitor_census_aggregation('visitor')"
   ]
  },
  {
   "cell_type": "code",
   "execution_count": 93,
   "id": "behavioral-universal",
   "metadata": {},
   "outputs": [
    {
     "name": "stdout",
     "output_type": "stream",
     "text": [
      "<class 'pandas.core.frame.DataFrame'>\n",
      "RangeIndex: 2641 entries, 0 to 2640\n",
      "Data columns (total 5 columns):\n",
      " #   Column    Non-Null Count  Dtype  \n",
      "---  ------    --------------  -----  \n",
      " 0   CBG_ID_v  2641 non-null   object \n",
      " 1   Income_v  2560 non-null   float64\n",
      " 2   Wp_v      2560 non-null   float64\n",
      " 3   Pbb_v     2560 non-null   float64\n",
      " 4   Upp_v     2560 non-null   float64\n",
      "dtypes: float64(4), object(1)\n",
      "memory usage: 103.3+ KB\n"
     ]
    }
   ],
   "source": [
    "visitor_census_1.info()"
   ]
  },
  {
   "cell_type": "code",
   "execution_count": 94,
   "id": "embedded-campbell",
   "metadata": {},
   "outputs": [],
   "source": [
    "visitor_census_1.to_csv('./demo_data/demo_visitor.csv')"
   ]
  },
  {
   "cell_type": "markdown",
   "id": "conditional-science",
   "metadata": {},
   "source": [
    "## Visit-based aggregation"
   ]
  },
  {
   "cell_type": "code",
   "execution_count": 95,
   "id": "frozen-crash",
   "metadata": {},
   "outputs": [],
   "source": [
    "visitor_census_2 = visitor_census_aggregation('visit')"
   ]
  },
  {
   "cell_type": "code",
   "execution_count": 96,
   "id": "right-mortality",
   "metadata": {},
   "outputs": [
    {
     "name": "stdout",
     "output_type": "stream",
     "text": [
      "<class 'pandas.core.frame.DataFrame'>\n",
      "RangeIndex: 2641 entries, 0 to 2640\n",
      "Data columns (total 5 columns):\n",
      " #   Column    Non-Null Count  Dtype  \n",
      "---  ------    --------------  -----  \n",
      " 0   CBG_ID_v  2641 non-null   object \n",
      " 1   Income_v  2560 non-null   float64\n",
      " 2   Wp_v      2560 non-null   float64\n",
      " 3   Pbb_v     2560 non-null   float64\n",
      " 4   Upp_v     2560 non-null   float64\n",
      "dtypes: float64(4), object(1)\n",
      "memory usage: 103.3+ KB\n"
     ]
    }
   ],
   "source": [
    "visitor_census_2.info()"
   ]
  },
  {
   "cell_type": "code",
   "execution_count": 97,
   "id": "alternate-binding",
   "metadata": {},
   "outputs": [],
   "source": [
    "visitor_census_2.to_csv('./demo_data/demo_visit.csv')"
   ]
  }
 ],
 "metadata": {
  "kernelspec": {
   "display_name": "Python3.8.3",
   "language": "python",
   "name": "python3.8.3"
  },
  "language_info": {
   "codemirror_mode": {
    "name": "ipython",
    "version": 3
   },
   "file_extension": ".py",
   "mimetype": "text/x-python",
   "name": "python",
   "nbconvert_exporter": "python",
   "pygments_lexer": "ipython3",
   "version": "3.8.3"
  }
 },
 "nbformat": 4,
 "nbformat_minor": 5
}
