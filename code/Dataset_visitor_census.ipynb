{
 "cells": [
  {
   "cell_type": "code",
   "execution_count": 6,
   "id": "pregnant-portuguese",
   "metadata": {},
   "outputs": [],
   "source": [
    "import pandas as pd\n",
    "import geopandas as gpd\n",
    "import dask.dataframe as dd\n",
    "import matplotlib.pyplot as plt\n",
    "import numpy as np\n",
    "\n",
    "import warnings \n",
    "warnings.filterwarnings(\"ignore\")"
   ]
  },
  {
   "cell_type": "code",
   "execution_count": 2,
   "id": "affecting-occupation",
   "metadata": {},
   "outputs": [],
   "source": [
    "base_path = '/panfs/jay/groups/13/dizhu/xion2613/'"
   ]
  },
  {
   "cell_type": "markdown",
   "id": "invisible-choir",
   "metadata": {},
   "source": [
    "# Visitor census in one month -- visitor based"
   ]
  },
  {
   "cell_type": "code",
   "execution_count": 3,
   "id": "standard-phenomenon",
   "metadata": {},
   "outputs": [
    {
     "name": "stdout",
     "output_type": "stream",
     "text": [
      "8706\n",
      "4227\n",
      "4058\n",
      "3964\n",
      "2765\n",
      "2113\n",
      "2641\n"
     ]
    }
   ],
   "source": [
    "city_list = ['LA','Houston','Atlanta','Miami','Seattle','Denver','TCMA']\n",
    "for city_name in city_list:\n",
    "    visitor_cbg_four = pd.read_csv(base_path + 'Visitor_residents/social/' + city_name + '_social_four.csv')\n",
    "    MSA_cbg = gpd.read_file('./MSA_cbg/' + city_name + '_cbg.geojson')\n",
    "    MSA_cbg_re = MSA_cbg[['GEOID', 'GISJOIN']]\n",
    "    MSA_cbg_re.loc[:, 'GEOID'] = MSA_cbg_re['GEOID'].astype(int)\n",
    "    visitor_cbg_four = visitor_cbg_four.loc[:, ~visitor_cbg_four.columns.str.contains('^Unnamed')]\n",
    "    visitor_cbg_four_re = visitor_cbg_four.rename({\n",
    "                     \"v_income\": \"Income_v\", \"v_wr\": \"Wp_v\",\n",
    "                     \"v_pbb\": \"Pbb_v\", \"v_upr\": \"Upp_v\"},  axis='columns')\n",
    "    \n",
    "    visitor_cbg_four_3 = MSA_cbg_re.merge(visitor_cbg_four_re, left_on='GEOID', right_on='CBG_target', how='left')\n",
    "    visitor_cbg_four_out = visitor_cbg_four_3.drop(columns=['CBG_target','GEOID'])\n",
    "    visitor_cbg_four_out = visitor_cbg_four_out.rename({\"GISJOIN\": \"CBG_id_v\"},  axis='columns')\n",
    "    visitor_cbg_four_out.to_csv(base_path + 'Visitor_residents/Output/' + city_name + '_visitor_July2021.csv')\n",
    "    print(len(visitor_cbg_four_out))"
   ]
  },
  {
   "cell_type": "markdown",
   "id": "injured-whole",
   "metadata": {},
   "source": [
    "# Visitor census in one month -- visit based"
   ]
  },
  {
   "cell_type": "code",
   "execution_count": null,
   "id": "deluxe-needle",
   "metadata": {},
   "outputs": [
    {
     "name": "stdout",
     "output_type": "stream",
     "text": [
      "8706\n",
      "4227\n",
      "4058\n"
     ]
    }
   ],
   "source": [
    "city_list = ['LA','Houston','Atlanta','Miami','Seattle','Denver','TCMA']\n",
    "for city_name in city_list:\n",
    "    df_d = dd.read_csv(base_path + 'Visitor_residents/Visitor_census/' + city_name + '_visitor_census.csv')\n",
    "    join_result_visitor_tab = df_d.compute()\n",
    "    join_result_visitor_tab['CBG_home'] = join_result_visitor_tab['CBG_home'].astype(int)\n",
    "    \n",
    "    if city_name != 'TCMA':\n",
    "        city_social_tab = pd.read_csv(base_path + 'Visitor_residents/social/' + city_name + '_social_tab_more.csv')\n",
    "        city_social_tab['TL_GEO_ID'] = city_social_tab['TL_GEO_ID'].astype(int)\n",
    "        join_result_visitor_tab = join_result_visitor_tab.merge(\n",
    "                    city_social_tab[['TL_GEO_ID', 'ASP3E001','ASP3E022','ASP3E023','ASP3E024','ASP3E025',\n",
    "                                  'ASSRE001', 'ASSRE005']], \\\n",
    "                    left_on='CBG_home', right_on='TL_GEO_ID', how='left')\n",
    "        \n",
    "        join_result_visitor_tab = join_result_visitor_tab.rename({\"v_income\": \"Income_v\", \"v_pop\": \"pop_v\", \n",
    "                 \"v_white\": \"white_v\", \"v_black\": \"black_v\", \"v_asian\": \"asian_v\",\n",
    "                 \"ASP3E001\": \"degree_v\", \"ASP3E022\": \"bac_v\", \"ASP3E023\": \"mas_v\",\n",
    "                 \"ASP3E024\": \"pro_v\", \"ASP3E025\": \"doc_v\",\n",
    "                 \"ASSRE001\": \"lab_v\", \"ASSRE005\": \"um_v\"}, axis='columns')\n",
    "    else:\n",
    "        join_result_visitor_tab = join_result_visitor_tab.rename({\"AQP6E001\": \"Income_v\", \"U7J001\": \"pop_v\", \n",
    "                         \"U7J002\": \"white_v\", \"U7J003\": \"black_v\", \"U7J005\": \"asian_v\",\n",
    "                         \"ASP3E001\": \"degree_v\", \"ASP3E022\": \"bac_v\", \"ASP3E023\": \"mas_v\",\n",
    "                         \"ASP3E024\": \"pro_v\", \"ASP3E025\": \"doc_v\",\n",
    "                         \"ASSRE001\": \"lab_v\", \"ASSRE005\": \"um_v\"}, axis='columns')\n",
    "    \n",
    "    visitor_cbg_income = join_result_visitor_tab.groupby('CBG_target')['Income_v'].mean().reset_index() # income\n",
    "\n",
    "    join_result_visitor_tab['Wp_v'] = join_result_visitor_tab['white_v'] / (join_result_visitor_tab['pop_v']+0.00001)\n",
    "    visitor_cbg_white = join_result_visitor_tab.groupby('CBG_target')['Wp_v'].mean().reset_index() # white ratio\n",
    "\n",
    "    join_result_visitor_tab['Pbb_v'] = join_result_visitor_tab[['bac_v','mas_v','pro_v','doc_v']].sum(axis=1) / (join_result_visitor_tab['degree_v']+0.00001)\n",
    "    visitor_cbg_pbb = join_result_visitor_tab.groupby('CBG_target')['Pbb_v'].mean().reset_index()  #ppb\n",
    "\n",
    "    join_result_visitor_tab['Upp_v'] = join_result_visitor_tab['um_v'] / (join_result_visitor_tab['lab_v']+0.00001)\n",
    "    visitor_cbg_upr = join_result_visitor_tab.groupby('CBG_target')['Upp_v'].mean().reset_index()  # upr\n",
    "\n",
    "    visitor_cbg_four = visitor_cbg_income.merge(visitor_cbg_white, on='CBG_target', how='inner') \\\n",
    "                                  .merge(visitor_cbg_pbb, on='CBG_target', how='inner') \\\n",
    "                                  .merge(visitor_cbg_upr, on='CBG_target', how='inner')    \n",
    "    \n",
    "    MSA_cbg = gpd.read_file('./MSA_cbg/' + city_name + '_cbg.geojson')\n",
    "    MSA_cbg_re = MSA_cbg[['GEOID', 'GISJOIN']]\n",
    "    MSA_cbg_re.loc[:, 'GEOID'] = MSA_cbg_re['GEOID'].astype(int)\n",
    "    visitor_cbg_four = visitor_cbg_four.loc[:, ~visitor_cbg_four.columns.str.contains('^Unnamed')]\n",
    "\n",
    "    visitor_cbg_four_3 = MSA_cbg_re.merge(visitor_cbg_four, left_on='GEOID', right_on='CBG_target', how='left')\n",
    "    visitor_cbg_four_out = visitor_cbg_four_3.drop(columns=['CBG_target','GEOID'])\n",
    "    visitor_cbg_four_out = visitor_cbg_four_out.rename({\"GISJOIN\": \"CBG_id_v\"},  axis='columns')\n",
    "    #visitor_cbg_four_out.to_csv(base_path + 'Visitor_residents/Output/visitation_based/' \\\n",
    "                                #+ city_name + '_visit_July2021.csv')\n",
    "    print(len(visitor_cbg_four_out))"
   ]
  }
 ],
 "metadata": {
  "kernelspec": {
   "display_name": "Python3.8.3",
   "language": "python",
   "name": "python3.8.3"
  },
  "language_info": {
   "codemirror_mode": {
    "name": "ipython",
    "version": 3
   },
   "file_extension": ".py",
   "mimetype": "text/x-python",
   "name": "python",
   "nbconvert_exporter": "python",
   "pygments_lexer": "ipython3",
   "version": "3.8.3"
  }
 },
 "nbformat": 4,
 "nbformat_minor": 5
}
